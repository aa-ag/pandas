{
 "cells": [
  {
   "cell_type": "code",
   "execution_count": null,
   "id": "de1284e7",
   "metadata": {},
   "outputs": [],
   "source": [
    "### FUNCTIONS\n",
    "# 1\n",
    "# What is the median of the points column in the reviews DataFrame?\n",
    "\n",
    "median_points = reviews.points.median()"
   ]
  },
  {
   "cell_type": "code",
   "execution_count": null,
   "id": "3fc78a4a",
   "metadata": {},
   "outputs": [],
   "source": [
    "# 2\n",
    "# What countries are represented in the dataset? \n",
    "# (Your answer should not include any duplicates.)\n",
    "\n",
    "countries = reviews.country.unique()"
   ]
  },
  {
   "cell_type": "code",
   "execution_count": null,
   "id": "94da1a4a",
   "metadata": {},
   "outputs": [],
   "source": [
    "# 3\n",
    "# How often does each country appear in the dataset? Create a Series \n",
    "# reviews_per_country mapping countries to the count of reviews of wines from that country.\n",
    "\n",
    "reviews_per_country = reviews.country.value_counts()\n",
    "print(reviews_per_country)\n",
    "\n",
    "'''\n",
    "US          54504\n",
    "France      22093\n",
    "            ...  \n",
    "China           1\n",
    "Slovakia        1\n",
    "Name: country, Length: 43, dtype: int64\n",
    "'''"
   ]
  },
  {
   "cell_type": "code",
   "execution_count": null,
   "id": "cd82e63a",
   "metadata": {},
   "outputs": [],
   "source": [
    "### MAPS\n",
    "# 4\n",
    "# Create variable centered_price containing a version of the price column \n",
    "# with the mean price subtracted.\n",
    "\n",
    "centered_price = reviews.price - reviews.price.mean()"
   ]
  },
  {
   "cell_type": "code",
   "execution_count": null,
   "id": "f993685e",
   "metadata": {},
   "outputs": [],
   "source": [
    "# 5\n",
    "# I'm an economical wine buyer. \n",
    "# Which wine is the \"best bargain\"? \n",
    "# Create a variable bargain_wine with the title of the wine with \n",
    "# the highest points-to-price ratio in the dataset.\n",
    "\n",
    "bargain_index = (reviews.points / reviews.price).idxmax()\n",
    "bargain_wine = reviews.title[bargain_index]\n",
    "print(bargain_wine)\n",
    "\n",
    "# Bandit NV Merlot (California)"
   ]
  },
  {
   "cell_type": "code",
   "execution_count": null,
   "id": "e61db6c2",
   "metadata": {},
   "outputs": [],
   "source": [
    "# 6\n",
    "'''\n",
    "There are only so many words you can use when describing a bottle of wine. \n",
    "Is a wine more likely to be \"tropical\" or \"fruity\"? \n",
    "Create a Series descriptor_counts counting how many times each of these two words \n",
    "appears in the description column in the dataset\n",
    "'''\n",
    "tropical = reviews['description'].str.contains('tropical').sum()\n",
    "fruity = reviews['description'].str.contains('fruity').sum()\n",
    "\n",
    "descriptor_counts = pd.Series([tropical, fruity], index=['tropical', 'fruity'])\n",
    "print(descriptor_counts)\n",
    "\n",
    "'''\n",
    "tropical    3607\n",
    "fruity      9090\n",
    "dtype: int64\n",
    "'''"
   ]
  }
 ],
 "metadata": {
  "kernelspec": {
   "display_name": "Python 3",
   "language": "python",
   "name": "python3"
  },
  "language_info": {
   "codemirror_mode": {
    "name": "ipython",
    "version": 3
   },
   "file_extension": ".py",
   "mimetype": "text/x-python",
   "name": "python",
   "nbconvert_exporter": "python",
   "pygments_lexer": "ipython3",
   "version": "3.8.11"
  }
 },
 "nbformat": 4,
 "nbformat_minor": 5
}
