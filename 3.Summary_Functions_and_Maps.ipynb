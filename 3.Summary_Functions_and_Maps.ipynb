{
 "cells": [
  {
   "cell_type": "code",
   "execution_count": null,
   "id": "c033195d",
   "metadata": {},
   "outputs": [],
   "source": [
    "# 1\n",
    "# What is the median of the points column in the reviews DataFrame?\n",
    "\n",
    "median_points = reviews.points.median()"
   ]
  },
  {
   "cell_type": "code",
   "execution_count": null,
   "id": "ceed6e20",
   "metadata": {},
   "outputs": [],
   "source": [
    "# 2\n",
    "# What countries are represented in the dataset? \n",
    "# (Your answer should not include any duplicates.)\n",
    "\n",
    "countries = reviews.country.unique()"
   ]
  }
 ],
 "metadata": {
  "kernelspec": {
   "display_name": "Python 3",
   "language": "python",
   "name": "python3"
  },
  "language_info": {
   "codemirror_mode": {
    "name": "ipython",
    "version": 3
   },
   "file_extension": ".py",
   "mimetype": "text/x-python",
   "name": "python",
   "nbconvert_exporter": "python",
   "pygments_lexer": "ipython3",
   "version": "3.8.11"
  }
 },
 "nbformat": 4,
 "nbformat_minor": 5
}
