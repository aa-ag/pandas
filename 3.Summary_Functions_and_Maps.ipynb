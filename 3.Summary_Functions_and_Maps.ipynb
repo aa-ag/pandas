{
 "cells": [
  {
   "cell_type": "code",
   "execution_count": null,
   "id": "e83a76ea",
   "metadata": {},
   "outputs": [],
   "source": [
    "### FUNCTIONS\n",
    "# 1\n",
    "# What is the median of the points column in the reviews DataFrame?\n",
    "\n",
    "median_points = reviews.points.median()"
   ]
  },
  {
   "cell_type": "code",
   "execution_count": null,
   "id": "e7e843e1",
   "metadata": {},
   "outputs": [],
   "source": [
    "# 2\n",
    "# What countries are represented in the dataset? \n",
    "# (Your answer should not include any duplicates.)\n",
    "\n",
    "countries = reviews.country.unique()"
   ]
  },
  {
   "cell_type": "code",
   "execution_count": null,
   "id": "a90c5dc5",
   "metadata": {},
   "outputs": [],
   "source": [
    "# 3\n",
    "# How often does each country appear in the dataset? Create a Series \n",
    "# reviews_per_country mapping countries to the count of reviews of wines from that country.\n",
    "\n",
    "reviews_per_country = reviews.country.value_counts()\n",
    "print(reviews_per_country)\n",
    "\n",
    "'''\n",
    "US          54504\n",
    "France      22093\n",
    "            ...  \n",
    "China           1\n",
    "Slovakia        1\n",
    "Name: country, Length: 43, dtype: int64\n",
    "'''"
   ]
  },
  {
   "cell_type": "code",
   "execution_count": null,
   "id": "61198df7",
   "metadata": {},
   "outputs": [],
   "source": [
    "### MAPS\n",
    "# 4\n",
    "# Create variable centered_price containing a version of the price column \n",
    "# with the mean price subtracted.\n",
    "\n",
    "centered_price = reviews.price - reviews.price.mean()"
   ]
  },
  {
   "cell_type": "code",
   "execution_count": null,
   "id": "77f0aa23",
   "metadata": {},
   "outputs": [],
   "source": [
    "# 5\n",
    "# I'm an economical wine buyer. \n",
    "# Which wine is the \"best bargain\"? \n",
    "# Create a variable bargain_wine with the title of the wine with \n",
    "# the highest points-to-price ratio in the dataset.\n",
    "\n",
    "bargain_index = (reviews.points / reviews.price).idxmax()\n",
    "bargain_wine = reviews.title[bargain_index]\n",
    "print(bargain_wine)\n",
    "\n",
    "# Bandit NV Merlot (California)"
   ]
  },
  {
   "cell_type": "code",
   "execution_count": null,
   "id": "ab25c06c",
   "metadata": {},
   "outputs": [],
   "source": [
    "# 6\n",
    "'''\n",
    "There are only so many words you can use when describing a bottle of wine. \n",
    "Is a wine more likely to be \"tropical\" or \"fruity\"? \n",
    "Create a Series descriptor_counts counting how many times each of these two words \n",
    "appears in the description column in the dataset\n",
    "'''\n",
    "tropical = reviews['description'].str.contains('tropical').sum()\n",
    "fruity = reviews['description'].str.contains('fruity').sum()\n",
    "\n",
    "descriptor_counts = pd.Series([tropical, fruity], index=['tropical', 'fruity'])\n",
    "print(descriptor_counts)\n",
    "\n",
    "'''\n",
    "tropical    3607\n",
    "fruity      9090\n",
    "dtype: int64\n",
    "'''\n",
    "\n",
    "# class version\n",
    "\n",
    "n_trop = reviews.description.map(lambda desc: \"tropical\" in desc).sum()\n",
    "n_fruity = reviews.description.map(lambda desc: \"fruity\" in desc).sum()\n",
    "descriptor_counts = pd.Series([n_trop, n_fruity], index=['tropical', 'fruity'])"
   ]
  },
  {
   "cell_type": "code",
   "execution_count": null,
   "id": "8c5873d6",
   "metadata": {},
   "outputs": [],
   "source": [
    "# 7\n",
    "'''\n",
    "We'd like to host these wine reviews on our website, \n",
    "but a rating system ranging from 80 to 100 points is too hard to understand - \n",
    "we'd like to translate them into simple star ratings. A score of 95 or \n",
    "higher counts as 3 stars, a score of at least 85 but less than 95 is 2 stars. \n",
    "Any other score is 1 star.\n",
    "\n",
    "Also, the Canadian Vintners Association bought a lot of ads on the site, \n",
    "so any wines from Canada should automatically get 3 stars, regardless of points.\n",
    "\n",
    "Create a series star_ratings with the number of stars corresponding to \n",
    "each review in the dataset.\n",
    "'''\n",
    "\n",
    "def stars(row):\n",
    "    if row.country == 'Canada':\n",
    "        return 3\n",
    "    elif row.points >= 95:\n",
    "        return 3\n",
    "    elif row.points >= 85:\n",
    "        return 2\n",
    "    else:\n",
    "        return 1\n",
    "\n",
    "star_ratings = reviews.apply(stars, axis='columns')"
   ]
  }
 ],
 "metadata": {
  "kernelspec": {
   "display_name": "Python 3",
   "language": "python",
   "name": "python3"
  },
  "language_info": {
   "codemirror_mode": {
    "name": "ipython",
    "version": 3
   },
   "file_extension": ".py",
   "mimetype": "text/x-python",
   "name": "python",
   "nbconvert_exporter": "python",
   "pygments_lexer": "ipython3",
   "version": "3.8.11"
  }
 },
 "nbformat": 4,
 "nbformat_minor": 5
}
