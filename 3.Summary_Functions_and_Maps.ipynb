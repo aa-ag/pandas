{
 "cells": [
  {
   "cell_type": "code",
   "execution_count": null,
   "id": "db3fe0db",
   "metadata": {},
   "outputs": [],
   "source": [
    "# 1\n",
    "# What is the median of the points column in the reviews DataFrame?\n",
    "\n",
    "median_points = reviews.points.median()"
   ]
  },
  {
   "cell_type": "code",
   "execution_count": null,
   "id": "dc998e91",
   "metadata": {},
   "outputs": [],
   "source": [
    "# 2\n",
    "# What countries are represented in the dataset? \n",
    "# (Your answer should not include any duplicates.)\n",
    "\n",
    "countries = reviews.country.unique()"
   ]
  },
  {
   "cell_type": "code",
   "execution_count": null,
   "id": "06c4df9b",
   "metadata": {},
   "outputs": [],
   "source": [
    "# 3\n",
    "# How often does each country appear in the dataset? Create a Series \n",
    "# reviews_per_country mapping countries to the count of reviews of wines from that country.\n",
    "\n",
    "reviews_per_country = reviews.country.value_counts()\n",
    "print(reviews_per_country)\n",
    "\n",
    "'''\n",
    "US          54504\n",
    "France      22093\n",
    "            ...  \n",
    "China           1\n",
    "Slovakia        1\n",
    "Name: country, Length: 43, dtype: int64\n",
    "'''"
   ]
  }
 ],
 "metadata": {
  "kernelspec": {
   "display_name": "Python 3",
   "language": "python",
   "name": "python3"
  },
  "language_info": {
   "codemirror_mode": {
    "name": "ipython",
    "version": 3
   },
   "file_extension": ".py",
   "mimetype": "text/x-python",
   "name": "python",
   "nbconvert_exporter": "python",
   "pygments_lexer": "ipython3",
   "version": "3.8.11"
  }
 },
 "nbformat": 4,
 "nbformat_minor": 5
}
