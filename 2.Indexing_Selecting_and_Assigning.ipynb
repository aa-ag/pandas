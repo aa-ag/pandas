{
 "cells": [
  {
   "cell_type": "code",
   "execution_count": 1,
   "id": "0d8f0fba",
   "metadata": {},
   "outputs": [],
   "source": [
    "import pandas as pd"
   ]
  },
  {
   "cell_type": "code",
   "execution_count": null,
   "id": "cf013425",
   "metadata": {},
   "outputs": [],
   "source": [
    "# Select the description column from reviews and assign the result to the variable desc.\n",
    "\n",
    "desc.reviews\n",
    "\n",
    "desc = reviews['description']"
   ]
  },
  {
   "cell_type": "code",
   "execution_count": null,
   "id": "1b65304c",
   "metadata": {},
   "outputs": [],
   "source": [
    "# Select the first value from the description column of reviews, \n",
    "# assigning it to variable first_description.\n",
    "\n",
    "reviews.description.iloc[0]\n",
    "\n",
    "reviews.description[0]"
   ]
  }
 ],
 "metadata": {
  "kernelspec": {
   "display_name": "Python 3 (ipykernel)",
   "language": "python",
   "name": "python3"
  },
  "language_info": {
   "codemirror_mode": {
    "name": "ipython",
    "version": 3
   },
   "file_extension": ".py",
   "mimetype": "text/x-python",
   "name": "python",
   "nbconvert_exporter": "python",
   "pygments_lexer": "ipython3",
   "version": "3.9.6"
  }
 },
 "nbformat": 4,
 "nbformat_minor": 5
}
