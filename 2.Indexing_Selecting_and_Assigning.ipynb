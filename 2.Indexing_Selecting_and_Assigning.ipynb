{
 "cells": [
  {
   "cell_type": "code",
   "execution_count": 1,
   "id": "42b690e4",
   "metadata": {},
   "outputs": [],
   "source": [
    "import pandas as pd"
   ]
  },
  {
   "cell_type": "code",
   "execution_count": null,
   "id": "486b97ad",
   "metadata": {},
   "outputs": [],
   "source": [
    "# Select the description column from reviews and assign the result to the variable desc.\n",
    "\n",
    "desc.reviews\n",
    "\n",
    "desc = reviews['description']"
   ]
  },
  {
   "cell_type": "code",
   "execution_count": null,
   "id": "e4c1b891",
   "metadata": {},
   "outputs": [],
   "source": [
    "# Select the first value from the description column of reviews, \n",
    "# assigning it to variable first_description.\n",
    "\n",
    "reviews.description.iloc[0]\n",
    "\n",
    "reviews.description[0]"
   ]
  },
  {
   "cell_type": "code",
   "execution_count": null,
   "id": "37d2b175",
   "metadata": {},
   "outputs": [],
   "source": [
    "# Select the first row of data (the first record) from reviews, \n",
    "# assigning it to the variable first_row.\n",
    "\n",
    "first_row = reviews.iloc[0]"
   ]
  },
  {
   "cell_type": "code",
   "execution_count": null,
   "id": "ee7dd23d",
   "metadata": {},
   "outputs": [],
   "source": [
    "# Select the first 10 values from the description column in reviews, \n",
    "# assigning the result to variable first_descriptions.\n",
    "\n",
    "first_descriptions = reviews.loc[0:9, 'description']\n",
    "first_descriptions = reviews.description.iloc[:10]"
   ]
  },
  {
   "cell_type": "code",
   "execution_count": null,
   "id": "af6fa1ed",
   "metadata": {},
   "outputs": [],
   "source": [
    "# Select the records with index labels 1, 2, 3, 5, and 8, \n",
    "# assigning the result to the variable sample_reviews\n",
    "\n",
    "sample_reviews = reviews.loc[[1,2,3,5,8]]\n",
    "\n",
    "# OR\n",
    "\n",
    "indices = [1, 2, 3, 5, 8]\n",
    "sample_reviews = reviews.loc[indices]"
   ]
  },
  {
   "cell_type": "code",
   "execution_count": null,
   "id": "16e09db1",
   "metadata": {},
   "outputs": [],
   "source": [
    "'''\n",
    " Create a variable df containing the country, \n",
    " province, region_1, and region_2 columns of \n",
    " the records with the index labels 0, 1, 10, and 100. \n",
    " In other words, generate the following DataFrame:\n",
    "'''\n",
    "\n",
    "df = reviews.loc[[0,1,10,100],['country', 'province', 'region_1', 'region_2']]"
   ]
  }
 ],
 "metadata": {
  "kernelspec": {
   "display_name": "Python 3",
   "language": "python",
   "name": "python3"
  },
  "language_info": {
   "codemirror_mode": {
    "name": "ipython",
    "version": 3
   },
   "file_extension": ".py",
   "mimetype": "text/x-python",
   "name": "python",
   "nbconvert_exporter": "python",
   "pygments_lexer": "ipython3",
   "version": "3.8.11"
  }
 },
 "nbformat": 4,
 "nbformat_minor": 5
}
