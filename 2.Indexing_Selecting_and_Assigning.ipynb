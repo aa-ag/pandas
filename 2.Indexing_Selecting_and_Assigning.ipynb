{
 "cells": [
  {
   "cell_type": "code",
   "execution_count": 1,
   "id": "dcf4a58d",
   "metadata": {},
   "outputs": [],
   "source": [
    "import pandas as pd"
   ]
  },
  {
   "cell_type": "code",
   "execution_count": null,
   "id": "c6547ccb",
   "metadata": {},
   "outputs": [],
   "source": [
    "# Select the description column from reviews and assign the result to the variable desc.\n",
    "\n",
    "desc.reviews\n",
    "\n",
    "desc = reviews['description']"
   ]
  },
  {
   "cell_type": "code",
   "execution_count": null,
   "id": "d9633184",
   "metadata": {},
   "outputs": [],
   "source": [
    "# Select the first value from the description column of reviews, \n",
    "# assigning it to variable first_description.\n",
    "\n",
    "reviews.description.iloc[0]\n",
    "\n",
    "reviews.description[0]"
   ]
  },
  {
   "cell_type": "code",
   "execution_count": null,
   "id": "883c084f",
   "metadata": {},
   "outputs": [],
   "source": [
    "# Select the first row of data (the first record) from reviews, \n",
    "# assigning it to the variable first_row.\n",
    "\n",
    "first_row = reviews.iloc[0]"
   ]
  },
  {
   "cell_type": "code",
   "execution_count": null,
   "id": "da470f66",
   "metadata": {},
   "outputs": [],
   "source": [
    "# Select the first 10 values from the description column in reviews, \n",
    "# assigning the result to variable first_descriptions.\n",
    "\n",
    "first_descriptions = reviews.loc[0:9, 'description']"
   ]
  },
  {
   "cell_type": "code",
   "execution_count": null,
   "id": "ddc5d711",
   "metadata": {},
   "outputs": [],
   "source": [
    "# Select the records with index labels 1, 2, 3, 5, and 8, \n",
    "# assigning the result to the variable sample_reviews\n",
    "\n",
    "sample_reviews = reviews.loc[[1,2,3,5,8]]\n",
    "\n",
    "# OR\n",
    "\n",
    "indices = [1, 2, 3, 5, 8]\n",
    "sample_reviews = reviews.loc[indices]"
   ]
  }
 ],
 "metadata": {
  "kernelspec": {
   "display_name": "Python 3 (ipykernel)",
   "language": "python",
   "name": "python3"
  },
  "language_info": {
   "codemirror_mode": {
    "name": "ipython",
    "version": 3
   },
   "file_extension": ".py",
   "mimetype": "text/x-python",
   "name": "python",
   "nbconvert_exporter": "python",
   "pygments_lexer": "ipython3",
   "version": "3.9.6"
  }
 },
 "nbformat": 4,
 "nbformat_minor": 5
}
