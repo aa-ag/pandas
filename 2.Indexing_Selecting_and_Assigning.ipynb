{
 "cells": [
  {
   "cell_type": "code",
   "execution_count": 1,
   "id": "42b690e4",
   "metadata": {},
   "outputs": [],
   "source": [
    "import pandas as pd"
   ]
  },
  {
   "cell_type": "code",
   "execution_count": null,
   "id": "486b97ad",
   "metadata": {},
   "outputs": [],
   "source": [
    "# 1\n",
    "# Select the description column from reviews and assign the result to the variable desc.\n",
    "\n",
    "desc.reviews\n",
    "\n",
    "desc = reviews['description']"
   ]
  },
  {
   "cell_type": "code",
   "execution_count": null,
   "id": "e4c1b891",
   "metadata": {},
   "outputs": [],
   "source": [
    "# 2\n",
    "# Select the first value from the description column of reviews, \n",
    "# assigning it to variable first_description.\n",
    "\n",
    "reviews.description.iloc[0]\n",
    "\n",
    "reviews.description[0]"
   ]
  },
  {
   "cell_type": "code",
   "execution_count": null,
   "id": "37d2b175",
   "metadata": {},
   "outputs": [],
   "source": [
    "# 3\n",
    "# Select the first row of data (the first record) from reviews, \n",
    "# assigning it to the variable first_row.\n",
    "\n",
    "first_row = reviews.iloc[0]"
   ]
  },
  {
   "cell_type": "code",
   "execution_count": null,
   "id": "ee7dd23d",
   "metadata": {},
   "outputs": [],
   "source": [
    "# 4\n",
    "# Select the first 10 values from the description column in reviews, \n",
    "# assigning the result to variable first_descriptions.\n",
    "\n",
    "first_descriptions = reviews.loc[0:9, 'description']\n",
    "first_descriptions = reviews.description.iloc[:10]"
   ]
  },
  {
   "cell_type": "code",
   "execution_count": null,
   "id": "af6fa1ed",
   "metadata": {},
   "outputs": [],
   "source": [
    "# 5\n",
    "# Select the records with index labels 1, 2, 3, 5, and 8, \n",
    "# assigning the result to the variable sample_reviews\n",
    "\n",
    "sample_reviews = reviews.loc[[1,2,3,5,8]]\n",
    "\n",
    "# OR\n",
    "\n",
    "indices = [1, 2, 3, 5, 8]\n",
    "sample_reviews = reviews.loc[indices]"
   ]
  },
  {
   "cell_type": "code",
   "execution_count": null,
   "id": "16e09db1",
   "metadata": {},
   "outputs": [],
   "source": [
    "# 6\n",
    "'''\n",
    " Create a variable df containing the country, \n",
    " province, region_1, and region_2 columns of \n",
    " the records with the index labels 0, 1, 10, and 100. \n",
    " In other words, generate the following DataFrame:\n",
    "'''\n",
    "\n",
    "df = reviews.loc[[0,1,10,100],['country', 'province', 'region_1', 'region_2']]\n",
    "\n",
    "cols = ['country', 'province', 'region_1', 'region_2']\n",
    "indices = [0, 1, 10, 100]\n",
    "df = reviews.loc[indices, cols]"
   ]
  },
  {
   "cell_type": "code",
   "execution_count": null,
   "id": "951b74d0",
   "metadata": {},
   "outputs": [],
   "source": [
    "# 7\n",
    "# Create a variable df containing the country and variety columns of the first 100 records.\n",
    "\n",
    "cols = ['country', 'variety']\n",
    "df = reviews.loc[:99, cols]\n",
    "\n",
    "# or\n",
    "\n",
    "cols_idx = [0, 11]\n",
    "df = reviews.iloc[:100, cols_idx]"
   ]
  },
  {
   "cell_type": "code",
   "execution_count": null,
   "id": "ee777fba",
   "metadata": {},
   "outputs": [],
   "source": [
    "# 8\n",
    "# Create a DataFrame italian_wines containing reviews of wines made in Italy. \n",
    "# Hint: reviews.country equals what?\n",
    "\n",
    "italian_wines = reviews[reviews.country == 'Italy']"
   ]
  },
  {
   "cell_type": "code",
   "execution_count": null,
   "id": "6b835db1",
   "metadata": {},
   "outputs": [],
   "source": [
    "# 9\n",
    "# Create a DataFrame top_oceania_wines containing all reviews with at least 95 points \n",
    "# (out of 100) for wines from Australia or New Zealand.\n",
    "\n",
    "top_oceania_wines = reviews.loc[reviews.country.isin(['Australia', 'New Zealand']) & (reviews.points >= 95)]"
   ]
  }
 ],
 "metadata": {
  "kernelspec": {
   "display_name": "Python 3",
   "language": "python",
   "name": "python3"
  },
  "language_info": {
   "codemirror_mode": {
    "name": "ipython",
    "version": 3
   },
   "file_extension": ".py",
   "mimetype": "text/x-python",
   "name": "python",
   "nbconvert_exporter": "python",
   "pygments_lexer": "ipython3",
   "version": "3.8.11"
  }
 },
 "nbformat": 4,
 "nbformat_minor": 5
}
