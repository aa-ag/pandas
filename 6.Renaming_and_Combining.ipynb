{
 "cells": [
  {
   "cell_type": "code",
   "execution_count": null,
   "id": "1d3ee83b",
   "metadata": {},
   "outputs": [],
   "source": [
    "# 1\n",
    "'''\n",
    "region_1 and region_2 are pretty uninformative names for locale columns in the dataset. \n",
    "Create a copy of reviews with these columns renamed to region and locale, respectively.\n",
    "'''\n",
    "\n",
    "reviews.rename(columns={'region_1': 'region','region_2': 'locale'})"
   ]
  }
 ],
 "metadata": {
  "kernelspec": {
   "display_name": "Python 3",
   "language": "python",
   "name": "python3"
  },
  "language_info": {
   "codemirror_mode": {
    "name": "ipython",
    "version": 3
   },
   "file_extension": ".py",
   "mimetype": "text/x-python",
   "name": "python",
   "nbconvert_exporter": "python",
   "pygments_lexer": "ipython3",
   "version": "3.8.11"
  }
 },
 "nbformat": 4,
 "nbformat_minor": 5
}
