{
 "cells": [
  {
   "cell_type": "code",
   "execution_count": null,
   "id": "a9a1fbe3",
   "metadata": {},
   "outputs": [],
   "source": [
    "# 1\n",
    "'''\n",
    "region_1 and region_2 are pretty uninformative names for locale columns in the dataset. \n",
    "Create a copy of reviews with these columns renamed to region and locale, respectively.\n",
    "'''\n",
    "\n",
    "reviews.rename(columns={'region_1': 'region','region_2': 'locale'})"
   ]
  },
  {
   "cell_type": "code",
   "execution_count": null,
   "id": "4b2da787",
   "metadata": {},
   "outputs": [],
   "source": [
    "# 2\n",
    "'''\n",
    "Set the index name in the dataset to wines.\n",
    "'''\n",
    "reindexed = reviews.rename_axis(\"fields\", axis='rows')"
   ]
  },
  {
   "cell_type": "code",
   "execution_count": null,
   "id": "e876399d",
   "metadata": {},
   "outputs": [],
   "source": [
    "# 3\n",
    "'''\n",
    "'''\n",
    "\n",
    "combined_products = pd.concat([gaming_products, movie_products])"
   ]
  },
  {
   "cell_type": "code",
   "execution_count": null,
   "id": "f9c78a1c",
   "metadata": {},
   "outputs": [],
   "source": [
    "# 4\n",
    "'''\n",
    "The Powerlifting Database dataset on Kaggle includes one CSV table for powerlifting \n",
    "meets and a separate one for powerlifting competitors. \n",
    "Run the cell below to load these datasets into dataframes:\n",
    "'''\n",
    "\n",
    "powerlifting_combined = powerlifting_meets.set_index(\"MeetID\").join(powerlifting_competitors.set_index(\"MeetID\"))"
   ]
  }
 ],
 "metadata": {
  "kernelspec": {
   "display_name": "Python 3",
   "language": "python",
   "name": "python3"
  },
  "language_info": {
   "codemirror_mode": {
    "name": "ipython",
    "version": 3
   },
   "file_extension": ".py",
   "mimetype": "text/x-python",
   "name": "python",
   "nbconvert_exporter": "python",
   "pygments_lexer": "ipython3",
   "version": "3.8.11"
  }
 },
 "nbformat": 4,
 "nbformat_minor": 5
}
