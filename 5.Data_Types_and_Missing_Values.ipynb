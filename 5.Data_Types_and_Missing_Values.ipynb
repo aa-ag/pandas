{
 "cells": [
  {
   "cell_type": "code",
   "execution_count": null,
   "id": "ab2f3ad1",
   "metadata": {},
   "outputs": [],
   "source": [
    "# imports pandas\n",
    "import pandas as pd\n",
    "\n",
    "# opens csv\n",
    "reviews = pd.read_csv(\"../input/wine-reviews/winemag-data-130k-v2.csv\", index_col=0)\n",
    "\n",
    "# sets maximun number of rows to 5 for easy display\n",
    "pd.set_option('display.max_rows', 5)\n",
    "\n",
    "# let's user know that everything was set up\n",
    "print(\"Setup complete.\")"
   ]
  },
  {
   "cell_type": "code",
   "execution_count": null,
   "id": "2d77db70",
   "metadata": {},
   "outputs": [],
   "source": [
    "# 1\n",
    "'''\n",
    "What is the data type of the points column in the dataset?\n",
    "'''\n",
    "\n",
    "dtype = reviews.points.dtype"
   ]
  },
  {
   "cell_type": "code",
   "execution_count": null,
   "id": "0bb1a976",
   "metadata": {},
   "outputs": [],
   "source": [
    "# 2\n",
    "'''\n",
    "Create a Series from entries in the points column, \n",
    "but convert the entries to strings. \n",
    "Hint: strings are str in native Python.\n",
    "'''\n",
    "\n",
    "point_strings = reviews.points.astype('str')"
   ]
  },
  {
   "cell_type": "code",
   "execution_count": null,
   "id": "17af96d7",
   "metadata": {},
   "outputs": [],
   "source": [
    "# 3.\n",
    "'''\n",
    "Sometimes the price column is null. \n",
    "How many reviews in the dataset are missing a price?\n",
    "'''\n",
    "\n",
    "n_missing_prices = len(missing_price_reviews)\n",
    "\n",
    "# Cute alternative solution: if we sum a boolean series, True is treated as 1 and False as 0\n",
    "n_missing_prices = reviews.price.isnull().sum()\n",
    "\n",
    "# or equivalently:\n",
    "n_missing_prices = pd.isnull(reviews.price).sum()"
   ]
  },
  {
   "cell_type": "code",
   "execution_count": null,
   "id": "d41ae0e4",
   "metadata": {},
   "outputs": [],
   "source": [
    "# 4\n",
    "'''\n",
    "What are the most common wine-producing regions?\n",
    "Create a Series counting the number of times each value occurs in the region_1 field. \n",
    "This field is often missing data, so replace missing values with Unknown. \n",
    "Sort in descending order. Your output should look something like this:\n",
    "'''\n",
    "\n",
    "a = reviews.region_1\n",
    "b = a.fillna('Unknown')\n",
    "reviews_per_region = b.value_counts()\n",
    "\n",
    "reviews_per_region = reviews.region_1.fillna('Unknown').value_counts().sort_values(ascending=False)"
   ]
  }
 ],
 "metadata": {
  "kernelspec": {
   "display_name": "Python 3",
   "language": "python",
   "name": "python3"
  },
  "language_info": {
   "codemirror_mode": {
    "name": "ipython",
    "version": 3
   },
   "file_extension": ".py",
   "mimetype": "text/x-python",
   "name": "python",
   "nbconvert_exporter": "python",
   "pygments_lexer": "ipython3",
   "version": "3.8.11"
  }
 },
 "nbformat": 4,
 "nbformat_minor": 5
}
