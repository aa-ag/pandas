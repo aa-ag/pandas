{
 "cells": [
  {
   "cell_type": "code",
   "execution_count": null,
   "id": "0f7b9b76",
   "metadata": {},
   "outputs": [],
   "source": [
    "# imports pandas\n",
    "import pandas as pd\n",
    "\n",
    "# opens csv\n",
    "reviews = pd.read_csv(\"../input/wine-reviews/winemag-data-130k-v2.csv\", index_col=0)\n",
    "\n",
    "# sets maximun number of rows to 5 for easy display\n",
    "pd.set_option('display.max_rows', 5)\n",
    "\n",
    "# let's user know that everything was set up\n",
    "print(\"Setup complete.\")"
   ]
  },
  {
   "cell_type": "code",
   "execution_count": null,
   "id": "e24e4aea",
   "metadata": {},
   "outputs": [],
   "source": [
    "# 1\n",
    "'''\n",
    "What is the data type of the points column in the dataset?\n",
    "'''\n",
    "\n",
    "dtype = reviews.points.dtype"
   ]
  },
  {
   "cell_type": "code",
   "execution_count": null,
   "id": "d3be8f4f",
   "metadata": {},
   "outputs": [],
   "source": [
    "# 2\n",
    "'''\n",
    "Create a Series from entries in the points column, \n",
    "but convert the entries to strings. \n",
    "Hint: strings are str in native Python.\n",
    "'''\n",
    "\n",
    "point_strings = reviews.points.astype('str')"
   ]
  }
 ],
 "metadata": {
  "kernelspec": {
   "display_name": "Python 3",
   "language": "python",
   "name": "python3"
  },
  "language_info": {
   "codemirror_mode": {
    "name": "ipython",
    "version": 3
   },
   "file_extension": ".py",
   "mimetype": "text/x-python",
   "name": "python",
   "nbconvert_exporter": "python",
   "pygments_lexer": "ipython3",
   "version": "3.8.11"
  }
 },
 "nbformat": 4,
 "nbformat_minor": 5
}
