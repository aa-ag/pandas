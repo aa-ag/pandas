{
 "cells": [
  {
   "cell_type": "code",
   "execution_count": 1,
   "metadata": {},
   "outputs": [],
   "source": [
    "import pandas as pd"
   ]
  },
  {
   "cell_type": "code",
   "execution_count": 4,
   "metadata": {},
   "outputs": [
    {
     "data": {
      "text/plain": [
       "weight\n",
       "3504    0.002513\n",
       "2965    0.002513\n",
       "3155    0.002513\n",
       "3535    0.002513\n",
       "3570    0.002513\n",
       "          ...   \n",
       "2265    0.007538\n",
       "2125    0.007538\n",
       "2720    0.007538\n",
       "1985    0.010050\n",
       "2130    0.010050\n",
       "Name: proportion, Length: 351, dtype: float64"
      ]
     },
     "execution_count": 4,
     "metadata": {},
     "output_type": "execute_result"
    }
   ],
   "source": [
    "df = pd.read_csv(\"../sourcefiles/Course_Materials_Part1/Coding_Exercises/cars.csv\")\n",
    "weights = df[\"weight\"]\n",
    "weights.value_counts(sort=True, dropna=True, ascending=True, normalize=True)"
   ]
  }
 ],
 "metadata": {
  "kernelspec": {
   "display_name": "pandasenv",
   "language": "python",
   "name": "python3"
  },
  "language_info": {
   "codemirror_mode": {
    "name": "ipython",
    "version": 3
   },
   "file_extension": ".py",
   "mimetype": "text/x-python",
   "name": "python",
   "nbconvert_exporter": "python",
   "pygments_lexer": "ipython3",
   "version": "3.11.3"
  },
  "orig_nbformat": 4
 },
 "nbformat": 4,
 "nbformat_minor": 2
}
