{
 "cells": [
  {
   "cell_type": "code",
   "execution_count": 2,
   "metadata": {},
   "outputs": [],
   "source": [
    "import pandas as pd"
   ]
  },
  {
   "cell_type": "code",
   "execution_count": 9,
   "metadata": {},
   "outputs": [
    {
     "data": {
      "text/plain": [
       "Index(['Year', 'City', 'Sport', 'Discipline', 'Athlete', 'Country', 'Gender',\n",
       "       'Event', 'Medal'],\n",
       "      dtype='object')"
      ]
     },
     "execution_count": 9,
     "metadata": {},
     "output_type": "execute_result"
    }
   ],
   "source": [
    "df = pd.read_csv(\"../sourcefiles/Course_Materials_Part1/Video_Lecture_NBs/summer.csv\")\n",
    "df.columns"
   ]
  },
  {
   "cell_type": "code",
   "execution_count": 21,
   "metadata": {},
   "outputs": [
    {
     "data": {
      "text/html": [
       "<div>\n",
       "<style scoped>\n",
       "    .dataframe tbody tr th:only-of-type {\n",
       "        vertical-align: middle;\n",
       "    }\n",
       "\n",
       "    .dataframe tbody tr th {\n",
       "        vertical-align: top;\n",
       "    }\n",
       "\n",
       "    .dataframe thead th {\n",
       "        text-align: right;\n",
       "    }\n",
       "</style>\n",
       "<table border=\"1\" class=\"dataframe\">\n",
       "  <thead>\n",
       "    <tr style=\"text-align: right;\">\n",
       "      <th></th>\n",
       "      <th>Year</th>\n",
       "      <th>City</th>\n",
       "      <th>Sport</th>\n",
       "      <th>Discipline</th>\n",
       "      <th>Athlete</th>\n",
       "      <th>Country</th>\n",
       "      <th>Gender</th>\n",
       "      <th>Event</th>\n",
       "      <th>Medal</th>\n",
       "    </tr>\n",
       "  </thead>\n",
       "  <tbody>\n",
       "    <tr>\n",
       "      <th>15742</th>\n",
       "      <td>1980</td>\n",
       "      <td>Moscow</td>\n",
       "      <td>Equestrian</td>\n",
       "      <td>Dressage</td>\n",
       "      <td>ALEKO</td>\n",
       "      <td>BUL</td>\n",
       "      <td>Men</td>\n",
       "      <td>Team</td>\n",
       "      <td>Silver</td>\n",
       "    </tr>\n",
       "    <tr>\n",
       "      <th>15743</th>\n",
       "      <td>1980</td>\n",
       "      <td>Moscow</td>\n",
       "      <td>Equestrian</td>\n",
       "      <td>Dressage</td>\n",
       "      <td>GADZHEV, Georgi</td>\n",
       "      <td>BUL</td>\n",
       "      <td>Men</td>\n",
       "      <td>Team</td>\n",
       "      <td>Silver</td>\n",
       "    </tr>\n",
       "    <tr>\n",
       "      <th>15744</th>\n",
       "      <td>1980</td>\n",
       "      <td>Moscow</td>\n",
       "      <td>Equestrian</td>\n",
       "      <td>Dressage</td>\n",
       "      <td>IVANOV, Svetoslav</td>\n",
       "      <td>BUL</td>\n",
       "      <td>Men</td>\n",
       "      <td>Team</td>\n",
       "      <td>Silver</td>\n",
       "    </tr>\n",
       "    <tr>\n",
       "      <th>15745</th>\n",
       "      <td>1980</td>\n",
       "      <td>Moscow</td>\n",
       "      <td>Equestrian</td>\n",
       "      <td>Dressage</td>\n",
       "      <td>MANDADZHIEV, Petr</td>\n",
       "      <td>BUL</td>\n",
       "      <td>Men</td>\n",
       "      <td>Team</td>\n",
       "      <td>Silver</td>\n",
       "    </tr>\n",
       "    <tr>\n",
       "      <th>15746</th>\n",
       "      <td>1980</td>\n",
       "      <td>Moscow</td>\n",
       "      <td>Equestrian</td>\n",
       "      <td>Dressage</td>\n",
       "      <td>SCHIBOR</td>\n",
       "      <td>BUL</td>\n",
       "      <td>Men</td>\n",
       "      <td>Team</td>\n",
       "      <td>Silver</td>\n",
       "    </tr>\n",
       "  </tbody>\n",
       "</table>\n",
       "</div>"
      ],
      "text/plain": [
       "       Year    City       Sport Discipline            Athlete Country Gender  \\\n",
       "15742  1980  Moscow  Equestrian   Dressage              ALEKO     BUL    Men   \n",
       "15743  1980  Moscow  Equestrian   Dressage    GADZHEV, Georgi     BUL    Men   \n",
       "15744  1980  Moscow  Equestrian   Dressage  IVANOV, Svetoslav     BUL    Men   \n",
       "15745  1980  Moscow  Equestrian   Dressage  MANDADZHIEV, Petr     BUL    Men   \n",
       "15746  1980  Moscow  Equestrian   Dressage            SCHIBOR     BUL    Men   \n",
       "\n",
       "      Event   Medal  \n",
       "15742  Team  Silver  \n",
       "15743  Team  Silver  \n",
       "15744  Team  Silver  \n",
       "15745  Team  Silver  \n",
       "15746  Team  Silver  "
      ]
     },
     "execution_count": 21,
     "metadata": {},
     "output_type": "execute_result"
    }
   ],
   "source": [
    "# sports = df.Sport.unique()\n",
    "# countries = df.Country.unique()\n",
    "# disciplines = df.Discipline.unique()\n",
    "\n",
    "filter_1 = df.Sport == \"Equestrian\"\n",
    "filter_2 = df.Country == \"BUL\"\n",
    "\n",
    "filtered = df.loc[filter_1 & filter_2]\n",
    "filtered\n"
   ]
  }
 ],
 "metadata": {
  "kernelspec": {
   "display_name": "pandasenv",
   "language": "python",
   "name": "python3"
  },
  "language_info": {
   "codemirror_mode": {
    "name": "ipython",
    "version": 3
   },
   "file_extension": ".py",
   "mimetype": "text/x-python",
   "name": "python",
   "nbconvert_exporter": "python",
   "pygments_lexer": "ipython3",
   "version": "3.11.3"
  },
  "orig_nbformat": 4
 },
 "nbformat": 4,
 "nbformat_minor": 2
}
