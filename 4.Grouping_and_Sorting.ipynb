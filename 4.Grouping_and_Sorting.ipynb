{
 "cells": [
  {
   "cell_type": "code",
   "execution_count": null,
   "id": "427bb88c",
   "metadata": {},
   "outputs": [],
   "source": [
    "# 1\n",
    "# Who are the most common wine reviewers in the dataset? \n",
    "# Create a Series whose index is the taster_twitter_handle category from the dataset, \n",
    "# and whose values count how many reviews each person wrote.\n",
    "\n",
    "reviews_written = reviews.groupby('taster_twitter_handle').size()"
   ]
  },
  {
   "cell_type": "code",
   "execution_count": null,
   "id": "03ae2d4b",
   "metadata": {},
   "outputs": [],
   "source": [
    "# 2\n",
    "'''\n",
    "What is the best wine I can buy for a given amount of money? \n",
    "Create a Series whose index is wine prices and whose values is the maximum number of points \n",
    "a wine costing that much was given in a review. \n",
    "Sort the values by price, ascending \n",
    "(so that 4.0 dollars is at the top and 3300.0 dollars is at the bottom).\n",
    "'''\n",
    "\n",
    "best_rating_per_price = reviews.groupby('price')['points'].max().sort_index()"
   ]
  },
  {
   "cell_type": "code",
   "execution_count": null,
   "id": "9fa057c3",
   "metadata": {},
   "outputs": [],
   "source": [
    "# 3\n",
    "'''\n",
    "What are the minimum and maximum prices for each variety of wine? \n",
    "Create a DataFrame whose index is the variety category from the dataset and \n",
    "whose values are the min and max values thereof.\n",
    "'''\n",
    "\n",
    "price_extremes = reviews.groupby(['variety']).price.agg([min, max])"
   ]
  },
  {
   "cell_type": "code",
   "execution_count": null,
   "id": "1c72810b",
   "metadata": {},
   "outputs": [],
   "source": [
    "# 4\n",
    "'''\n",
    "What are the most expensive wine varieties? \n",
    "Create a variable sorted_varieties containing a copy of the dataframe \n",
    "from the previous question where varieties are sorted in descending \n",
    "order based on minimum price, then on maximum price (to break ties).\n",
    "'''\n",
    "\n",
    "sorted_varieties = price_extremes.sort_values(by=['min', 'max'], ascending=False)"
   ]
  },
  {
   "cell_type": "code",
   "execution_count": null,
   "id": "bd201a81",
   "metadata": {},
   "outputs": [],
   "source": [
    "# 5\n",
    "'''\n",
    "Create a `Series` whose index is reviewers and whose values is \n",
    "the average review score given out by that reviewer. \n",
    "Hint: you will need the `taster_name` and `points` columns.\n",
    "'''\n",
    "\n",
    "reviewer_mean_ratings = reviews.groupby('taster_name').points.mean()"
   ]
  },
  {
   "cell_type": "code",
   "execution_count": null,
   "id": "0b1e3567",
   "metadata": {},
   "outputs": [],
   "source": [
    "# 6\n",
    "'''\n",
    "What combination of countries and varieties are most common? \n",
    "Create a Series whose index is a MultiIndexof {country, variety} pairs. \n",
    "For example, a pinot noir produced in the US should map to {\"US\", \"Pinot Noir\"}. \n",
    "Sort the values in the Series in descending order based on wine count.\n",
    "'''\n",
    "\n",
    "country_variety_counts = reviews.groupby(['country', 'variety']).size().sort_values(ascending=False)"
   ]
  }
 ],
 "metadata": {
  "kernelspec": {
   "display_name": "Python 3",
   "language": "python",
   "name": "python3"
  },
  "language_info": {
   "codemirror_mode": {
    "name": "ipython",
    "version": 3
   },
   "file_extension": ".py",
   "mimetype": "text/x-python",
   "name": "python",
   "nbconvert_exporter": "python",
   "pygments_lexer": "ipython3",
   "version": "3.8.11"
  }
 },
 "nbformat": 4,
 "nbformat_minor": 5
}
