{
 "cells": [
  {
   "cell_type": "code",
   "execution_count": null,
   "id": "1a84b347",
   "metadata": {},
   "outputs": [],
   "source": [
    "# 1\n",
    "# Who are the most common wine reviewers in the dataset? \n",
    "# Create a Series whose index is the taster_twitter_handle category from the dataset, \n",
    "# and whose values count how many reviews each person wrote.\n",
    "\n",
    "reviews_written = reviews.groupby('taster_twitter_handle').size()"
   ]
  },
  {
   "cell_type": "code",
   "execution_count": null,
   "id": "8d9534fa",
   "metadata": {},
   "outputs": [],
   "source": [
    "# 2\n",
    "'''\n",
    "What is the best wine I can buy for a given amount of money? \n",
    "Create a Series whose index is wine prices and whose values is the maximum number of points \n",
    "a wine costing that much was given in a review. \n",
    "Sort the values by price, ascending \n",
    "(so that 4.0 dollars is at the top and 3300.0 dollars is at the bottom).\n",
    "'''\n",
    "\n",
    "best_rating_per_price = reviews.groupby('price')['points'].max().sort_index()"
   ]
  }
 ],
 "metadata": {
  "kernelspec": {
   "display_name": "Python 3",
   "language": "python",
   "name": "python3"
  },
  "language_info": {
   "codemirror_mode": {
    "name": "ipython",
    "version": 3
   },
   "file_extension": ".py",
   "mimetype": "text/x-python",
   "name": "python",
   "nbconvert_exporter": "python",
   "pygments_lexer": "ipython3",
   "version": "3.8.11"
  }
 },
 "nbformat": 4,
 "nbformat_minor": 5
}
