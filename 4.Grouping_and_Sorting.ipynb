{
 "cells": [
  {
   "cell_type": "code",
   "execution_count": null,
   "id": "6aebda5c",
   "metadata": {},
   "outputs": [],
   "source": [
    "# 1\n",
    "# Who are the most common wine reviewers in the dataset? \n",
    "# Create a Series whose index is the taster_twitter_handle category from the dataset, \n",
    "# and whose values count how many reviews each person wrote.\n",
    "\n",
    "reviews_written = reviews.groupby('taster_twitter_handle').size()"
   ]
  },
  {
   "cell_type": "code",
   "execution_count": null,
   "id": "a108ff75",
   "metadata": {},
   "outputs": [],
   "source": [
    "# 2\n",
    "'''\n",
    "What is the best wine I can buy for a given amount of money? \n",
    "Create a Series whose index is wine prices and whose values is the maximum number of points \n",
    "a wine costing that much was given in a review. \n",
    "Sort the values by price, ascending \n",
    "(so that 4.0 dollars is at the top and 3300.0 dollars is at the bottom).\n",
    "'''\n",
    "\n",
    "best_rating_per_price = reviews.groupby('price')['points'].max().sort_index()"
   ]
  },
  {
   "cell_type": "code",
   "execution_count": null,
   "id": "9a59063e",
   "metadata": {},
   "outputs": [],
   "source": [
    "# 3\n",
    "'''\n",
    "What are the minimum and maximum prices for each variety of wine? \n",
    "Create a DataFrame whose index is the variety category from the dataset and \n",
    "whose values are the min and max values thereof.\n",
    "'''\n",
    "\n",
    "price_extremes = reviews.groupby(['variety']).price.agg([min, max])"
   ]
  },
  {
   "cell_type": "code",
   "execution_count": null,
   "id": "580e4b92",
   "metadata": {},
   "outputs": [],
   "source": [
    "# 4\n",
    "'''\n",
    "What are the most expensive wine varieties? \n",
    "Create a variable sorted_varieties containing a copy of the dataframe \n",
    "from the previous question where varieties are sorted in descending \n",
    "order based on minimum price, then on maximum price (to break ties).\n",
    "'''\n",
    "\n",
    "sorted_varieties = price_extremes.sort_values(by=['min', 'max'], ascending=False)"
   ]
  }
 ],
 "metadata": {
  "kernelspec": {
   "display_name": "Python 3",
   "language": "python",
   "name": "python3"
  },
  "language_info": {
   "codemirror_mode": {
    "name": "ipython",
    "version": 3
   },
   "file_extension": ".py",
   "mimetype": "text/x-python",
   "name": "python",
   "nbconvert_exporter": "python",
   "pygments_lexer": "ipython3",
   "version": "3.8.11"
  }
 },
 "nbformat": 4,
 "nbformat_minor": 5
}
