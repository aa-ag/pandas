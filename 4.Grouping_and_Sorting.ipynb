{
 "cells": [
  {
   "cell_type": "code",
   "execution_count": null,
   "id": "f1999eb5",
   "metadata": {},
   "outputs": [],
   "source": [
    "# 1\n",
    "# Who are the most common wine reviewers in the dataset? \n",
    "# Create a Series whose index is the taster_twitter_handle category from the dataset, \n",
    "# and whose values count how many reviews each person wrote.\n",
    "\n",
    "reviews_written = reviews.groupby('taster_twitter_handle').size()"
   ]
  }
 ],
 "metadata": {
  "kernelspec": {
   "display_name": "Python 3",
   "language": "python",
   "name": "python3"
  },
  "language_info": {
   "codemirror_mode": {
    "name": "ipython",
    "version": 3
   },
   "file_extension": ".py",
   "mimetype": "text/x-python",
   "name": "python",
   "nbconvert_exporter": "python",
   "pygments_lexer": "ipython3",
   "version": "3.8.11"
  }
 },
 "nbformat": 4,
 "nbformat_minor": 5
}
